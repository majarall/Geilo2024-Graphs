{
 "cells": [
  {
   "cell_type": "markdown",
   "id": "44c6152c-f027-4171-b66a-0bb751d2a22c",
   "metadata": {},
   "source": [
    "### Lecture 2 - Graph Neutral Networks\n",
    "\n",
    "- Motivation\n",
    "- Graph Learning in Spectral domain\n",
    "- Grap Leanring in Spatial domain\n",
    "- Application: Node\n"
   ]
  },
  {
   "cell_type": "code",
   "execution_count": null,
   "id": "655e7ca4-6e3a-4034-9883-a26b00f4da21",
   "metadata": {},
   "outputs": [],
   "source": []
  }
 ],
 "metadata": {
  "kernelspec": {
   "display_name": "Python 3 (ipykernel)",
   "language": "python",
   "name": "python3"
  },
  "language_info": {
   "codemirror_mode": {
    "name": "ipython",
    "version": 3
   },
   "file_extension": ".py",
   "mimetype": "text/x-python",
   "name": "python",
   "nbconvert_exporter": "python",
   "pygments_lexer": "ipython3",
   "version": "3.11.7"
  }
 },
 "nbformat": 4,
 "nbformat_minor": 5
}
