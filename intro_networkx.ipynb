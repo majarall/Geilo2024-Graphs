{
 "cells": [
  {
   "cell_type": "code",
   "execution_count": 1,
   "id": "ee482c87-dce5-4116-b0b2-57eaff330de6",
   "metadata": {},
   "outputs": [],
   "source": [
    "import networkx as nx"
   ]
  },
  {
   "cell_type": "markdown",
   "id": "53dad50a-59f0-4d2c-9fdc-a24771f7ff4f",
   "metadata": {},
   "source": [
    "A node set: Entities in a graph\n",
    "An edge set: The record of relationships between the enties in the graph\n"
   ]
  },
  {
   "cell_type": "markdown",
   "id": "cb70746a-5c6f-49a5-ac4d-89b6b636ef0b",
   "metadata": {},
   "source": [
    "### Why NetworkX\n",
    "\n",
    "- Flexible: Arbitrary edge data and node types\n",
    "- Easy to use\n",
    "- Powerful"
   ]
  },
  {
   "cell_type": "code",
   "execution_count": null,
   "id": "ea5ff80f-0c40-4b02-a7a9-37aaf846c3f7",
   "metadata": {},
   "outputs": [],
   "source": []
  }
 ],
 "metadata": {
  "kernelspec": {
   "display_name": "Python 3 (ipykernel)",
   "language": "python",
   "name": "python3"
  },
  "language_info": {
   "codemirror_mode": {
    "name": "ipython",
    "version": 3
   },
   "file_extension": ".py",
   "mimetype": "text/x-python",
   "name": "python",
   "nbconvert_exporter": "python",
   "pygments_lexer": "ipython3",
   "version": "3.11.7"
  }
 },
 "nbformat": 4,
 "nbformat_minor": 5
}
